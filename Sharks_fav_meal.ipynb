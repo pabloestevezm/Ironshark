{
 "cells": [
  {
   "cell_type": "markdown",
   "metadata": {},
   "source": [
    "# Hipótesis a confirmar: las piernas son la parte favorita de los tiburones"
   ]
  },
  {
   "cell_type": "code",
   "execution_count": null,
   "metadata": {},
   "outputs": [],
   "source": [
    "#Primer paso importar los módulos correspondientes \n",
    "import pandas as pd\n",
    "import numpy as np\n",
    "import re\n",
    "import matplotlib.pyplot as plt"
   ]
  },
  {
   "cell_type": "code",
   "execution_count": null,
   "metadata": {},
   "outputs": [],
   "source": [
    "#Obtengo el data set para poder trabajar con el en pandas\n",
    "data = pd.read_csv(r\"./Input/attacks.csv\", encoding='latin-1')"
   ]
  },
  {
   "cell_type": "code",
   "execution_count": null,
   "metadata": {},
   "outputs": [],
   "source": [
    "#Realizo el shape para conocer las dimensiones del dataframe\n",
    "data.shape"
   ]
  },
  {
   "cell_type": "code",
   "execution_count": null,
   "metadata": {
    "scrolled": true
   },
   "outputs": [],
   "source": [
    "#Aquí tengo la información sobre las columnas\n",
    "data.columns"
   ]
  },
  {
   "cell_type": "code",
   "execution_count": null,
   "metadata": {},
   "outputs": [],
   "source": [
    "#Observo el número de nulos por columna para saber con que columnas me quiero quedar\n",
    "data.isnull().sum().sort_values(ascending=False)"
   ]
  },
  {
   "cell_type": "markdown",
   "metadata": {},
   "source": [
    "\n",
    "# Aquí realizo la primera limpieza de columnas que no me van a aportar información a mi hipótesis"
   ]
  },
  {
   "cell_type": "code",
   "execution_count": null,
   "metadata": {},
   "outputs": [],
   "source": [
    "#Quito las columnas de Unnamed 22 y 23 que no contienen datos\n",
    "adata = data[['Case Number', 'Date', 'Year', 'Type', 'Country', 'Area', 'Location',\n",
    "        'Activity', 'Name', 'Sex ', 'Age', 'Injury', 'Fatal (Y/N)', 'Time',\n",
    "       'Species ', 'Investigator or Source', 'pdf', 'href formula', 'href',\n",
    "       'Case Number.1', 'Case Number.2', 'original order']]"
   ]
  },
  {
   "cell_type": "code",
   "execution_count": null,
   "metadata": {},
   "outputs": [],
   "source": [
    "adata.shape"
   ]
  },
  {
   "cell_type": "code",
   "execution_count": null,
   "metadata": {
    "scrolled": false
   },
   "outputs": [],
   "source": [
    "adata.isnull().sum().sort_values(ascending=False)"
   ]
  },
  {
   "cell_type": "code",
   "execution_count": null,
   "metadata": {},
   "outputs": [],
   "source": [
    "#Para eliminar filas vacías que no me van a aportar nada de información, utilizo la función dropna\n",
    "bdata = adata.dropna(\n",
    "    axis=0,\n",
    "    how='all',\n",
    "    thresh=None,\n",
    "    subset=None,\n",
    "    inplace=False)"
   ]
  },
  {
   "cell_type": "code",
   "execution_count": null,
   "metadata": {},
   "outputs": [],
   "source": [
    "#Vuelvo a comprobar el número de filas...\n",
    "bdata.shape"
   ]
  },
  {
   "cell_type": "code",
   "execution_count": null,
   "metadata": {},
   "outputs": [],
   "source": [
    "#..y vuelvo a comprobar también los null por columna\n",
    "bdata.isnull().sum().sort_values(ascending=False)"
   ]
  },
  {
   "cell_type": "markdown",
   "metadata": {},
   "source": [
    "### Compruebo los valores de las siguientes columnas observando que me dan el mismo tipo de información"
   ]
  },
  {
   "cell_type": "code",
   "execution_count": null,
   "metadata": {},
   "outputs": [],
   "source": [
    "#Comprobaciones\n",
    "#cdata['Case Number']\n",
    "#cdata['Case Number.1']\n",
    "#cdata['Case Number.2']\n",
    "#cdata['Date'])"
   ]
  },
  {
   "cell_type": "code",
   "execution_count": null,
   "metadata": {},
   "outputs": [],
   "source": [
    "#Después de comprobar la información de las columnas Case Number, decido quedarme con la información de Date,\n",
    "#para poder limpiar 2400 filas\n",
    "cdata = bdata[['Date', 'Year', 'Type', 'Country', 'Area', 'Location',\n",
    "        'Activity', 'Name', 'Sex ', 'Age', 'Injury', 'Fatal (Y/N)', 'Time',\n",
    "       'Species ', 'Investigator or Source', 'pdf', 'href formula', 'href', 'original order']]"
   ]
  },
  {
   "cell_type": "code",
   "execution_count": null,
   "metadata": {},
   "outputs": [],
   "source": [
    "ddata = cdata.dropna(\n",
    "    axis=0,\n",
    "    how='all',\n",
    "    thresh=None,\n",
    "    subset=None,\n",
    "    inplace=False)"
   ]
  },
  {
   "cell_type": "code",
   "execution_count": null,
   "metadata": {},
   "outputs": [],
   "source": [
    "#cdata.shape\n",
    "ddata.shape"
   ]
  },
  {
   "cell_type": "code",
   "execution_count": null,
   "metadata": {},
   "outputs": [],
   "source": [
    "ddata.isnull().sum().sort_values(ascending=False)"
   ]
  },
  {
   "cell_type": "markdown",
   "metadata": {},
   "source": [
    "   # Hago selección de las columnas con las que voy a trabajar para probar la hipótesis"
   ]
  },
  {
   "cell_type": "code",
   "execution_count": null,
   "metadata": {},
   "outputs": [],
   "source": [
    "edata = ddata[['Type', 'Activity','Sex ', 'Age', 'Injury', 'Fatal (Y/N)', 'Species ']]"
   ]
  },
  {
   "cell_type": "code",
   "execution_count": null,
   "metadata": {},
   "outputs": [],
   "source": [
    "#De nuevo, limpio las filas que sólo contengan nulls\n",
    "fdata = edata.dropna(\n",
    "    axis=0,\n",
    "    how='all',\n",
    "    thresh=None,\n",
    "    subset=None,\n",
    "    inplace=False)"
   ]
  },
  {
   "cell_type": "code",
   "execution_count": null,
   "metadata": {},
   "outputs": [],
   "source": [
    "fdata.shape"
   ]
  },
  {
   "cell_type": "code",
   "execution_count": null,
   "metadata": {},
   "outputs": [],
   "source": [
    "fdata.isnull().sum()"
   ]
  },
  {
   "cell_type": "markdown",
   "metadata": {},
   "source": [
    "# Ahora vamos a obtener la información que necesitamos"
   ]
  },
  {
   "cell_type": "code",
   "execution_count": null,
   "metadata": {},
   "outputs": [],
   "source": [
    "def injury(e):\n",
    "    non= re.findall(r'(No|no)\\s\\w+',str(e))\n",
    "    injs= re.findall(r'\\w+',str(e))\n",
    "\n",
    "    if non:\n",
    "        return np.NaN\n",
    "    elif injs:\n",
    "        return 'Injured'"
   ]
  },
  {
   "cell_type": "code",
   "execution_count": null,
   "metadata": {},
   "outputs": [],
   "source": [
    "fdata['Injuries']= fdata['Injury'].apply(injury)"
   ]
  },
  {
   "cell_type": "code",
   "execution_count": null,
   "metadata": {},
   "outputs": [],
   "source": [
    "#Para la hipótesis quiero quedarme solo con los que han sufrido heridas, por lo que la función me devolverá NaN a los que no..\n",
    "#han sufrido heridas para poder eliminar esas filas\n",
    "kdata = fdata.dropna(subset=['Injuries'])\n",
    "display(kdata)"
   ]
  },
  {
   "cell_type": "code",
   "execution_count": null,
   "metadata": {},
   "outputs": [],
   "source": [
    "def species(e):\n",
    "    white= re.findall(r'\\b(White)|\\b(white)',str(e))\n",
    "    tiger= re.findall(r'\\b(Tiger)|\\b(tiger)',str(e))\n",
    "    sharks= re.findall(r'\\b(sharks)|\\b(Sharks)|\\b(regular)',str(e))\n",
    "\n",
    "\n",
    "    if white:\n",
    "        return 'White Shark'\n",
    "    elif tiger:\n",
    "        return 'Tiger Shark'\n",
    "    else:\n",
    "        return 'Regular Shark'"
   ]
  },
  {
   "cell_type": "code",
   "execution_count": null,
   "metadata": {},
   "outputs": [],
   "source": [
    "kdata['Species']= kdata['Species '].apply(species)"
   ]
  },
  {
   "cell_type": "code",
   "execution_count": null,
   "metadata": {},
   "outputs": [],
   "source": [
    "kdata['Species']"
   ]
  },
  {
   "cell_type": "code",
   "execution_count": null,
   "metadata": {},
   "outputs": [],
   "source": [
    "#Guardamos la base de datos \n",
    "kdata.to_csv(\"cleandata.csv\")"
   ]
  },
  {
   "cell_type": "markdown",
   "metadata": {},
   "source": [
    "# Respecto a la descripción de la columna Injury, quiero extraer las partes\n",
    "### Con la función contains me permitirá contabilizar las partes con True y False"
   ]
  },
  {
   "cell_type": "code",
   "execution_count": null,
   "metadata": {},
   "outputs": [],
   "source": [
    "kdata['Arms']=kdata['Injury'].str.contains(r'(arm|arms)', regex=True)\n",
    "kdata['Legs']=kdata['Injury'].str.contains(r'(leg|legs)', regex=True)\n",
    "kdata['Chest']=kdata['Injury'].str.contains('chest')\n",
    "kdata['Thighs']=kdata['Injury'].str.contains(r'(thigh|thighs)', regex=True)\n",
    "kdata['Hands']=kdata['Injury'].str.contains(r'(hand|hands)', regex=True)\n",
    "kdata['Heads']=kdata['Injury'].str.contains('head')\n",
    "kdata['Feet']=kdata['Injury'].str.contains(r'(foot|feet)', regex=True)\n",
    "kdata['Fingers']=kdata['Injury'].str.contains(r'(finger|fingers)', regex=True)\n",
    "kdata['Necks']=kdata['Injury'].str.contains('neck')\n",
    "kdata['Backs']=kdata['Injury'].str.contains('back')\n",
    "kdata['Shoulders']=kdata['Injury'].str.contains(r'(shoulder|shoulders)', regex=True)\n",
    "kdata['Toes']=kdata['Injury'].str.contains(r'(toe|toes)', regex=True)"
   ]
  },
  {
   "cell_type": "code",
   "execution_count": null,
   "metadata": {},
   "outputs": [],
   "source": [
    "kdata.columns\n",
    "kdata.shape"
   ]
  },
  {
   "cell_type": "markdown",
   "metadata": {},
   "source": [
    "### Contabilizo los True para poder sacar porcentajes y gráfico "
   ]
  },
  {
   "cell_type": "code",
   "execution_count": null,
   "metadata": {},
   "outputs": [],
   "source": [
    "#Con esta función me devolverá los porcentajes de cada categoría,siendo 2874 la sumatotal que veremos más abajo\n",
    "def perc(e):\n",
    "    x= (e/2874)*100\n",
    "    return x "
   ]
  },
  {
   "cell_type": "code",
   "execution_count": null,
   "metadata": {},
   "outputs": [],
   "source": [
    "kdata['Arms'].value_counts()\n",
    "arms = 481\n",
    "#perc(arms)"
   ]
  },
  {
   "cell_type": "code",
   "execution_count": null,
   "metadata": {},
   "outputs": [],
   "source": [
    "kdata['Legs'].value_counts()\n",
    "legs = 722\n",
    "#perc(legs)"
   ]
  },
  {
   "cell_type": "code",
   "execution_count": null,
   "metadata": {},
   "outputs": [],
   "source": [
    "kdata['Chest'].value_counts()\n",
    "chest = 43\n",
    "#perc(chest)"
   ]
  },
  {
   "cell_type": "code",
   "execution_count": null,
   "metadata": {},
   "outputs": [],
   "source": [
    "kdata['Thighs'].value_counts()\n",
    "thighs = 341\n",
    "#perc(thighs)"
   ]
  },
  {
   "cell_type": "code",
   "execution_count": null,
   "metadata": {},
   "outputs": [],
   "source": [
    "kdata['Fingers'].value_counts()\n",
    "fingers = 75\n",
    "#perc(fingers)"
   ]
  },
  {
   "cell_type": "code",
   "execution_count": null,
   "metadata": {},
   "outputs": [],
   "source": [
    "kdata['Hands'].value_counts()\n",
    "hands = 373\n",
    "#perc(hands)"
   ]
  },
  {
   "cell_type": "code",
   "execution_count": null,
   "metadata": {},
   "outputs": [],
   "source": [
    "kdata['Feet'].value_counts()\n",
    "feet = 616\n",
    "#perc(feet)"
   ]
  },
  {
   "cell_type": "code",
   "execution_count": null,
   "metadata": {},
   "outputs": [],
   "source": [
    "kdata['Heads'].value_counts()\n",
    "heads = 39\n",
    "#perc(heads)"
   ]
  },
  {
   "cell_type": "code",
   "execution_count": null,
   "metadata": {},
   "outputs": [],
   "source": [
    "kdata['Necks'].value_counts()\n",
    "necks = 18\n",
    "#perc(necks)"
   ]
  },
  {
   "cell_type": "code",
   "execution_count": null,
   "metadata": {},
   "outputs": [],
   "source": [
    "kdata['Backs'].value_counts()\n",
    "backs = 46\n",
    "#perc(backs)"
   ]
  },
  {
   "cell_type": "code",
   "execution_count": null,
   "metadata": {},
   "outputs": [],
   "source": [
    "kdata['Shoulders'].value_counts()\n",
    "shoulders = 77\n",
    "#perc(shoulders)"
   ]
  },
  {
   "cell_type": "code",
   "execution_count": null,
   "metadata": {},
   "outputs": [],
   "source": [
    "kdata['Toes'].value_counts()\n",
    "toes = 43\n",
    "#perc(toes)"
   ]
  },
  {
   "cell_type": "code",
   "execution_count": null,
   "metadata": {},
   "outputs": [],
   "source": [
    "sumatotal = arms+legs+chest+thighs+fingers+hands+toes+shoulders+backs+necks+heads+feet\n",
    "sumatotal"
   ]
  },
  {
   "cell_type": "markdown",
   "metadata": {},
   "source": [
    "## Hacemos un gráfico para representar los datos obtenidos mediante la suma de True anterior"
   ]
  },
  {
   "cell_type": "code",
   "execution_count": null,
   "metadata": {},
   "outputs": [],
   "source": [
    "labels = np.array(['Arms', 'Legs', 'Chest', 'Thighs', 'Hands', 'Heads', 'Feet', 'Fingers', 'Necks',\n",
    "                   'Backs', 'Shoulders', 'Toes'])\n",
    "sizes = [(arms/sumatotal)*100,(legs/sumatotal)*100,(chest/sumatotal)*100,(thighs/sumatotal)*100,\n",
    "         (hands/sumatotal)*100,(heads/sumatotal)*100,(feet/sumatotal)*100,(fingers/sumatotal)*100,\n",
    "         (necks/sumatotal)*100,(backs/sumatotal)*100,(shoulders/sumatotal)*100,(toes/sumatotal)*100]\n",
    "\n",
    "explode = (0, 0, 0, 0, 0, 0, 0, 0, 0, 0, 0, 0)\n",
    "\n",
    "fig1, ax1 = plt.subplots()\n",
    "ax1.pie(sizes, explode=explode, labels=labels, autopct=None,\n",
    "        shadow=True, startangle=90)\n",
    "ax1.axis('equal')\n",
    "\n",
    "plt.show()"
   ]
  },
  {
   "cell_type": "markdown",
   "metadata": {},
   "source": [
    "## Pongo las 5 partes favoritas para comparar respecto a las especies"
   ]
  },
  {
   "cell_type": "code",
   "execution_count": null,
   "metadata": {},
   "outputs": [],
   "source": [
    "legs_fav = kdata.groupby([\"Species\",\"Legs\"]).agg({\"Injuries\":\"count\"})\n",
    "legs_fav"
   ]
  },
  {
   "cell_type": "code",
   "execution_count": null,
   "metadata": {},
   "outputs": [],
   "source": [
    "arms_fav = kdata.groupby([\"Species\",\"Arms\"]).agg({\"Injuries\":\"count\"})\n",
    "arms_fav"
   ]
  },
  {
   "cell_type": "code",
   "execution_count": null,
   "metadata": {},
   "outputs": [],
   "source": [
    "feet_fav = kdata.groupby([\"Species\",\"Feet\"]).agg({\"Injuries\":\"count\"})\n",
    "feet_fav"
   ]
  },
  {
   "cell_type": "code",
   "execution_count": null,
   "metadata": {},
   "outputs": [],
   "source": [
    "thighs_fav = kdata.groupby([\"Species\",\"Thighs\"]).agg({\"Injuries\":\"count\"})\n",
    "thighs_fav"
   ]
  },
  {
   "cell_type": "code",
   "execution_count": null,
   "metadata": {},
   "outputs": [],
   "source": [
    "hands_fav = kdata.groupby([\"Species\",\"Hands\"]).agg({\"Injuries\":\"count\"})\n",
    "hands_fav"
   ]
  }
 ],
 "metadata": {
  "kernelspec": {
   "display_name": "Python 3",
   "language": "python",
   "name": "python3"
  },
  "language_info": {
   "codemirror_mode": {
    "name": "ipython",
    "version": 3
   },
   "file_extension": ".py",
   "mimetype": "text/x-python",
   "name": "python",
   "nbconvert_exporter": "python",
   "pygments_lexer": "ipython3",
   "version": "3.8.3"
  }
 },
 "nbformat": 4,
 "nbformat_minor": 4
}
